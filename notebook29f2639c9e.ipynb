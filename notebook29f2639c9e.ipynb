{
 "cells": [
  {
   "cell_type": "code",
   "execution_count": 1,
   "id": "a4546833",
   "metadata": {
    "_cell_guid": "b1076dfc-b9ad-4769-8c92-a6c4dae69d19",
    "_uuid": "8f2839f25d086af736a60e9eeb907d3b93b6e0e5",
    "execution": {
     "iopub.execute_input": "2023-03-03T18:01:59.870819Z",
     "iopub.status.busy": "2023-03-03T18:01:59.870327Z",
     "iopub.status.idle": "2023-03-03T18:01:59.892370Z",
     "shell.execute_reply": "2023-03-03T18:01:59.891276Z"
    },
    "jupyter": {
     "source_hidden": true
    },
    "papermill": {
     "duration": 0.034575,
     "end_time": "2023-03-03T18:01:59.895943",
     "exception": false,
     "start_time": "2023-03-03T18:01:59.861368",
     "status": "completed"
    },
    "tags": []
   },
   "outputs": [
    {
     "name": "stdout",
     "output_type": "stream",
     "text": [
      "/kaggle/input/top-100-songs/top 100 streamed songs.csv\n"
     ]
    }
   ],
   "source": [
    "# This Python 3 environment comes with many helpful analytics libraries installed\n",
    "# It is defined by the kaggle/python Docker image: https://github.com/kaggle/docker-python\n",
    "# For example, here's several helpful packages to load\n",
    "\n",
    "import numpy as np # linear algebra\n",
    "import pandas as pd # data processing, CSV file I/O (e.g. pd.read_csv)\n",
    "\n",
    "# Input data files are available in the read-only \"../input/\" directory\n",
    "# For example, running this (by clicking run or pressing Shift+Enter) will list all files under the input directory\n",
    "\n",
    "import os\n",
    "for dirname, _, filenames in os.walk('/kaggle/input'):\n",
    "    for filename in filenames:\n",
    "        print(os.path.join(dirname, filename))\n",
    "\n",
    "# You can write up to 20GB to the current directory (/kaggle/working/) that gets preserved as output when you create a version using \"Save & Run All\" \n",
    "# You can also write temporary files to /kaggle/temp/, but they won't be saved outside of the current session"
   ]
  },
  {
   "cell_type": "markdown",
   "id": "22f2d27a",
   "metadata": {
    "papermill": {
     "duration": 0.005735,
     "end_time": "2023-03-03T18:01:59.908429",
     "exception": false,
     "start_time": "2023-03-03T18:01:59.902694",
     "status": "completed"
    },
    "tags": []
   },
   "source": [
    "## Read csv file"
   ]
  },
  {
   "cell_type": "code",
   "execution_count": 2,
   "id": "23307baf",
   "metadata": {
    "execution": {
     "iopub.execute_input": "2023-03-03T18:01:59.922141Z",
     "iopub.status.busy": "2023-03-03T18:01:59.921734Z",
     "iopub.status.idle": "2023-03-03T18:01:59.994440Z",
     "shell.execute_reply": "2023-03-03T18:01:59.992791Z"
    },
    "papermill": {
     "duration": 0.083034,
     "end_time": "2023-03-03T18:01:59.997339",
     "exception": false,
     "start_time": "2023-03-03T18:01:59.914305",
     "status": "completed"
    },
    "tags": []
   },
   "outputs": [
    {
     "data": {
      "text/html": [
       "<div>\n",
       "<style scoped>\n",
       "    .dataframe tbody tr th:only-of-type {\n",
       "        vertical-align: middle;\n",
       "    }\n",
       "\n",
       "    .dataframe tbody tr th {\n",
       "        vertical-align: top;\n",
       "    }\n",
       "\n",
       "    .dataframe thead th {\n",
       "        text-align: right;\n",
       "    }\n",
       "</style>\n",
       "<table border=\"1\" class=\"dataframe\">\n",
       "  <thead>\n",
       "    <tr style=\"text-align: right;\">\n",
       "      <th></th>\n",
       "      <th>id</th>\n",
       "      <th>name</th>\n",
       "      <th>duration</th>\n",
       "      <th>energy</th>\n",
       "      <th>key</th>\n",
       "      <th>loudness</th>\n",
       "      <th>mode</th>\n",
       "      <th>speechiness</th>\n",
       "      <th>acousticness</th>\n",
       "      <th>instrumentalness</th>\n",
       "      <th>liveness</th>\n",
       "      <th>valence</th>\n",
       "      <th>tempo</th>\n",
       "      <th>danceability</th>\n",
       "    </tr>\n",
       "  </thead>\n",
       "  <tbody>\n",
       "    <tr>\n",
       "      <th>0</th>\n",
       "      <td>4ZtFanR9U6ndgddUvNcjcG</td>\n",
       "      <td>Good 4 U Olivia Rodrigo</td>\n",
       "      <td>2.97</td>\n",
       "      <td>0.664</td>\n",
       "      <td>9</td>\n",
       "      <td>-5.044</td>\n",
       "      <td>1</td>\n",
       "      <td>0.1540</td>\n",
       "      <td>0.33500</td>\n",
       "      <td>0.000</td>\n",
       "      <td>0.0849</td>\n",
       "      <td>0.688</td>\n",
       "      <td>166.928</td>\n",
       "      <td>0.563</td>\n",
       "    </tr>\n",
       "    <tr>\n",
       "      <th>1</th>\n",
       "      <td>5fxyZf6m2xHeSrOzUfcJrq</td>\n",
       "      <td>Stay The Kid LAROI &amp; Justin Bieber</td>\n",
       "      <td>2.30</td>\n",
       "      <td>0.506</td>\n",
       "      <td>8</td>\n",
       "      <td>-11.275</td>\n",
       "      <td>1</td>\n",
       "      <td>0.0589</td>\n",
       "      <td>0.37900</td>\n",
       "      <td>0.868</td>\n",
       "      <td>0.1100</td>\n",
       "      <td>0.454</td>\n",
       "      <td>170.054</td>\n",
       "      <td>0.564</td>\n",
       "    </tr>\n",
       "    <tr>\n",
       "      <th>2</th>\n",
       "      <td>5nujrmhLynf4yMoMtj8AQF</td>\n",
       "      <td>Levitating Dua Lipa feat. DaBaby</td>\n",
       "      <td>3.38</td>\n",
       "      <td>0.825</td>\n",
       "      <td>6</td>\n",
       "      <td>-3.787</td>\n",
       "      <td>0</td>\n",
       "      <td>0.0601</td>\n",
       "      <td>0.00883</td>\n",
       "      <td>0.000</td>\n",
       "      <td>0.0674</td>\n",
       "      <td>0.915</td>\n",
       "      <td>102.977</td>\n",
       "      <td>0.702</td>\n",
       "    </tr>\n",
       "    <tr>\n",
       "      <th>3</th>\n",
       "      <td>4iJyoBOLtHqaGxP12qzhQI</td>\n",
       "      <td>Peaches Justin Bieber feat. Daniel Caesar &amp; Gi...</td>\n",
       "      <td>3.30</td>\n",
       "      <td>0.696</td>\n",
       "      <td>0</td>\n",
       "      <td>-6.181</td>\n",
       "      <td>1</td>\n",
       "      <td>0.1190</td>\n",
       "      <td>0.32100</td>\n",
       "      <td>0.000</td>\n",
       "      <td>0.4200</td>\n",
       "      <td>0.464</td>\n",
       "      <td>90.030</td>\n",
       "      <td>0.677</td>\n",
       "    </tr>\n",
       "    <tr>\n",
       "      <th>4</th>\n",
       "      <td>1SC5rEoYDGUK4NfG82494W</td>\n",
       "      <td>Montero (Call Me By Your Name) Lil Nas X</td>\n",
       "      <td>2.30</td>\n",
       "      <td>0.503</td>\n",
       "      <td>8</td>\n",
       "      <td>-6.725</td>\n",
       "      <td>0</td>\n",
       "      <td>0.2200</td>\n",
       "      <td>0.29300</td>\n",
       "      <td>0.000</td>\n",
       "      <td>0.4050</td>\n",
       "      <td>0.710</td>\n",
       "      <td>178.781</td>\n",
       "      <td>0.593</td>\n",
       "    </tr>\n",
       "    <tr>\n",
       "      <th>...</th>\n",
       "      <td>...</td>\n",
       "      <td>...</td>\n",
       "      <td>...</td>\n",
       "      <td>...</td>\n",
       "      <td>...</td>\n",
       "      <td>...</td>\n",
       "      <td>...</td>\n",
       "      <td>...</td>\n",
       "      <td>...</td>\n",
       "      <td>...</td>\n",
       "      <td>...</td>\n",
       "      <td>...</td>\n",
       "      <td>...</td>\n",
       "      <td>...</td>\n",
       "    </tr>\n",
       "    <tr>\n",
       "      <th>95</th>\n",
       "      <td>4iJyoBOLtHqaGxP12qzhQI</td>\n",
       "      <td>Peaches (feat. Daniel Caesar &amp; Giveon) Justin ...</td>\n",
       "      <td>3.30</td>\n",
       "      <td>0.696</td>\n",
       "      <td>0</td>\n",
       "      <td>-6.181</td>\n",
       "      <td>1</td>\n",
       "      <td>0.1190</td>\n",
       "      <td>0.32100</td>\n",
       "      <td>0.000</td>\n",
       "      <td>0.4200</td>\n",
       "      <td>0.464</td>\n",
       "      <td>90.030</td>\n",
       "      <td>0.677</td>\n",
       "    </tr>\n",
       "    <tr>\n",
       "      <th>96</th>\n",
       "      <td>1FSWSs9CL01RCYxXtm08Rf</td>\n",
       "      <td>Dance With Me Tonight Olly Murs</td>\n",
       "      <td>3.37</td>\n",
       "      <td>0.748</td>\n",
       "      <td>11</td>\n",
       "      <td>-5.922</td>\n",
       "      <td>0</td>\n",
       "      <td>0.0589</td>\n",
       "      <td>0.30500</td>\n",
       "      <td>0.000</td>\n",
       "      <td>0.0811</td>\n",
       "      <td>0.964</td>\n",
       "      <td>163.984</td>\n",
       "      <td>0.672</td>\n",
       "    </tr>\n",
       "    <tr>\n",
       "      <th>97</th>\n",
       "      <td>54bFM56PmE4YLRnqpW6Tha</td>\n",
       "      <td>Therefore I Am Billie Eilish</td>\n",
       "      <td>2.91</td>\n",
       "      <td>0.340</td>\n",
       "      <td>11</td>\n",
       "      <td>-7.773</td>\n",
       "      <td>0</td>\n",
       "      <td>0.0697</td>\n",
       "      <td>0.21800</td>\n",
       "      <td>0.130</td>\n",
       "      <td>0.0550</td>\n",
       "      <td>0.716</td>\n",
       "      <td>94.009</td>\n",
       "      <td>0.889</td>\n",
       "    </tr>\n",
       "    <tr>\n",
       "      <th>98</th>\n",
       "      <td>5jsw9uXEGuKyJzs0boZ1bT</td>\n",
       "      <td>Stitches Shawn Mendes</td>\n",
       "      <td>3.45</td>\n",
       "      <td>0.754</td>\n",
       "      <td>1</td>\n",
       "      <td>-6.684</td>\n",
       "      <td>1</td>\n",
       "      <td>0.0615</td>\n",
       "      <td>0.01510</td>\n",
       "      <td>0.000</td>\n",
       "      <td>0.0486</td>\n",
       "      <td>0.755</td>\n",
       "      <td>149.789</td>\n",
       "      <td>0.752</td>\n",
       "    </tr>\n",
       "    <tr>\n",
       "      <th>99</th>\n",
       "      <td>1SC5rEoYDGUK4NfG82494W</td>\n",
       "      <td>Montero (Call Me By Your Name) Lil Nas X</td>\n",
       "      <td>2.30</td>\n",
       "      <td>0.503</td>\n",
       "      <td>8</td>\n",
       "      <td>-6.725</td>\n",
       "      <td>0</td>\n",
       "      <td>0.2200</td>\n",
       "      <td>0.29300</td>\n",
       "      <td>0.000</td>\n",
       "      <td>0.4050</td>\n",
       "      <td>0.710</td>\n",
       "      <td>178.781</td>\n",
       "      <td>0.593</td>\n",
       "    </tr>\n",
       "  </tbody>\n",
       "</table>\n",
       "<p>100 rows × 14 columns</p>\n",
       "</div>"
      ],
      "text/plain": [
       "                        id                                               name  \\\n",
       "0   4ZtFanR9U6ndgddUvNcjcG                            Good 4 U Olivia Rodrigo   \n",
       "1   5fxyZf6m2xHeSrOzUfcJrq                 Stay The Kid LAROI & Justin Bieber   \n",
       "2   5nujrmhLynf4yMoMtj8AQF                   Levitating Dua Lipa feat. DaBaby   \n",
       "3   4iJyoBOLtHqaGxP12qzhQI  Peaches Justin Bieber feat. Daniel Caesar & Gi...   \n",
       "4   1SC5rEoYDGUK4NfG82494W           Montero (Call Me By Your Name) Lil Nas X   \n",
       "..                     ...                                                ...   \n",
       "95  4iJyoBOLtHqaGxP12qzhQI  Peaches (feat. Daniel Caesar & Giveon) Justin ...   \n",
       "96  1FSWSs9CL01RCYxXtm08Rf                    Dance With Me Tonight Olly Murs   \n",
       "97  54bFM56PmE4YLRnqpW6Tha                       Therefore I Am Billie Eilish   \n",
       "98  5jsw9uXEGuKyJzs0boZ1bT                              Stitches Shawn Mendes   \n",
       "99  1SC5rEoYDGUK4NfG82494W           Montero (Call Me By Your Name) Lil Nas X   \n",
       "\n",
       "    duration  energy  key  loudness  mode  speechiness  acousticness  \\\n",
       "0       2.97   0.664    9    -5.044     1       0.1540       0.33500   \n",
       "1       2.30   0.506    8   -11.275     1       0.0589       0.37900   \n",
       "2       3.38   0.825    6    -3.787     0       0.0601       0.00883   \n",
       "3       3.30   0.696    0    -6.181     1       0.1190       0.32100   \n",
       "4       2.30   0.503    8    -6.725     0       0.2200       0.29300   \n",
       "..       ...     ...  ...       ...   ...          ...           ...   \n",
       "95      3.30   0.696    0    -6.181     1       0.1190       0.32100   \n",
       "96      3.37   0.748   11    -5.922     0       0.0589       0.30500   \n",
       "97      2.91   0.340   11    -7.773     0       0.0697       0.21800   \n",
       "98      3.45   0.754    1    -6.684     1       0.0615       0.01510   \n",
       "99      2.30   0.503    8    -6.725     0       0.2200       0.29300   \n",
       "\n",
       "    instrumentalness  liveness  valence    tempo  danceability  \n",
       "0              0.000    0.0849    0.688  166.928         0.563  \n",
       "1              0.868    0.1100    0.454  170.054         0.564  \n",
       "2              0.000    0.0674    0.915  102.977         0.702  \n",
       "3              0.000    0.4200    0.464   90.030         0.677  \n",
       "4              0.000    0.4050    0.710  178.781         0.593  \n",
       "..               ...       ...      ...      ...           ...  \n",
       "95             0.000    0.4200    0.464   90.030         0.677  \n",
       "96             0.000    0.0811    0.964  163.984         0.672  \n",
       "97             0.130    0.0550    0.716   94.009         0.889  \n",
       "98             0.000    0.0486    0.755  149.789         0.752  \n",
       "99             0.000    0.4050    0.710  178.781         0.593  \n",
       "\n",
       "[100 rows x 14 columns]"
      ]
     },
     "execution_count": 2,
     "metadata": {},
     "output_type": "execute_result"
    }
   ],
   "source": [
    "df = pd.read_csv('/kaggle/input/top-100-songs/top 100 streamed songs.csv')\n",
    "df"
   ]
  },
  {
   "cell_type": "markdown",
   "id": "6cea6fa8",
   "metadata": {
    "papermill": {
     "duration": 0.006084,
     "end_time": "2023-03-03T18:02:00.010126",
     "exception": false,
     "start_time": "2023-03-03T18:02:00.004042",
     "status": "completed"
    },
    "tags": []
   },
   "source": [
    "## describe the dataset "
   ]
  },
  {
   "cell_type": "code",
   "execution_count": 3,
   "id": "c3fc3c31",
   "metadata": {
    "execution": {
     "iopub.execute_input": "2023-03-03T18:02:00.025272Z",
     "iopub.status.busy": "2023-03-03T18:02:00.024866Z",
     "iopub.status.idle": "2023-03-03T18:02:00.089828Z",
     "shell.execute_reply": "2023-03-03T18:02:00.088258Z"
    },
    "papermill": {
     "duration": 0.075931,
     "end_time": "2023-03-03T18:02:00.092838",
     "exception": false,
     "start_time": "2023-03-03T18:02:00.016907",
     "status": "completed"
    },
    "tags": []
   },
   "outputs": [
    {
     "data": {
      "text/html": [
       "<div>\n",
       "<style scoped>\n",
       "    .dataframe tbody tr th:only-of-type {\n",
       "        vertical-align: middle;\n",
       "    }\n",
       "\n",
       "    .dataframe tbody tr th {\n",
       "        vertical-align: top;\n",
       "    }\n",
       "\n",
       "    .dataframe thead th {\n",
       "        text-align: right;\n",
       "    }\n",
       "</style>\n",
       "<table border=\"1\" class=\"dataframe\">\n",
       "  <thead>\n",
       "    <tr style=\"text-align: right;\">\n",
       "      <th></th>\n",
       "      <th>duration</th>\n",
       "      <th>energy</th>\n",
       "      <th>key</th>\n",
       "      <th>loudness</th>\n",
       "      <th>mode</th>\n",
       "      <th>speechiness</th>\n",
       "      <th>acousticness</th>\n",
       "      <th>instrumentalness</th>\n",
       "      <th>liveness</th>\n",
       "      <th>valence</th>\n",
       "      <th>tempo</th>\n",
       "      <th>danceability</th>\n",
       "    </tr>\n",
       "  </thead>\n",
       "  <tbody>\n",
       "    <tr>\n",
       "      <th>count</th>\n",
       "      <td>100.000000</td>\n",
       "      <td>100.000000</td>\n",
       "      <td>100.00000</td>\n",
       "      <td>100.000000</td>\n",
       "      <td>100.000000</td>\n",
       "      <td>100.000000</td>\n",
       "      <td>100.000000</td>\n",
       "      <td>100.000000</td>\n",
       "      <td>100.000000</td>\n",
       "      <td>100.000000</td>\n",
       "      <td>100.000000</td>\n",
       "      <td>100.000000</td>\n",
       "    </tr>\n",
       "    <tr>\n",
       "      <th>mean</th>\n",
       "      <td>3.404900</td>\n",
       "      <td>0.587650</td>\n",
       "      <td>5.05000</td>\n",
       "      <td>-6.577120</td>\n",
       "      <td>0.560000</td>\n",
       "      <td>0.075461</td>\n",
       "      <td>0.314539</td>\n",
       "      <td>0.070682</td>\n",
       "      <td>0.161737</td>\n",
       "      <td>0.517354</td>\n",
       "      <td>121.548260</td>\n",
       "      <td>0.647900</td>\n",
       "    </tr>\n",
       "    <tr>\n",
       "      <th>std</th>\n",
       "      <td>0.927022</td>\n",
       "      <td>0.168273</td>\n",
       "      <td>3.82542</td>\n",
       "      <td>2.447338</td>\n",
       "      <td>0.498888</td>\n",
       "      <td>0.068065</td>\n",
       "      <td>0.281076</td>\n",
       "      <td>0.221947</td>\n",
       "      <td>0.112657</td>\n",
       "      <td>0.237512</td>\n",
       "      <td>29.148613</td>\n",
       "      <td>0.126942</td>\n",
       "    </tr>\n",
       "    <tr>\n",
       "      <th>min</th>\n",
       "      <td>0.730000</td>\n",
       "      <td>0.157000</td>\n",
       "      <td>0.00000</td>\n",
       "      <td>-14.067000</td>\n",
       "      <td>0.000000</td>\n",
       "      <td>0.025300</td>\n",
       "      <td>0.000280</td>\n",
       "      <td>0.000000</td>\n",
       "      <td>0.034100</td>\n",
       "      <td>0.059200</td>\n",
       "      <td>71.884000</td>\n",
       "      <td>0.352000</td>\n",
       "    </tr>\n",
       "    <tr>\n",
       "      <th>25%</th>\n",
       "      <td>2.910000</td>\n",
       "      <td>0.477750</td>\n",
       "      <td>1.00000</td>\n",
       "      <td>-7.676250</td>\n",
       "      <td>0.000000</td>\n",
       "      <td>0.036100</td>\n",
       "      <td>0.090750</td>\n",
       "      <td>0.000000</td>\n",
       "      <td>0.088375</td>\n",
       "      <td>0.329000</td>\n",
       "      <td>97.476250</td>\n",
       "      <td>0.566750</td>\n",
       "    </tr>\n",
       "    <tr>\n",
       "      <th>50%</th>\n",
       "      <td>3.370000</td>\n",
       "      <td>0.609000</td>\n",
       "      <td>5.00000</td>\n",
       "      <td>-6.262500</td>\n",
       "      <td>1.000000</td>\n",
       "      <td>0.051800</td>\n",
       "      <td>0.238500</td>\n",
       "      <td>0.000000</td>\n",
       "      <td>0.120000</td>\n",
       "      <td>0.542000</td>\n",
       "      <td>117.037500</td>\n",
       "      <td>0.663500</td>\n",
       "    </tr>\n",
       "    <tr>\n",
       "      <th>75%</th>\n",
       "      <td>3.630000</td>\n",
       "      <td>0.707750</td>\n",
       "      <td>8.00000</td>\n",
       "      <td>-4.786750</td>\n",
       "      <td>1.000000</td>\n",
       "      <td>0.080650</td>\n",
       "      <td>0.519750</td>\n",
       "      <td>0.000083</td>\n",
       "      <td>0.205250</td>\n",
       "      <td>0.711500</td>\n",
       "      <td>141.733750</td>\n",
       "      <td>0.734000</td>\n",
       "    </tr>\n",
       "    <tr>\n",
       "      <th>max</th>\n",
       "      <td>10.220000</td>\n",
       "      <td>0.883000</td>\n",
       "      <td>11.00000</td>\n",
       "      <td>-2.724000</td>\n",
       "      <td>1.000000</td>\n",
       "      <td>0.368000</td>\n",
       "      <td>0.941000</td>\n",
       "      <td>0.941000</td>\n",
       "      <td>0.509000</td>\n",
       "      <td>0.967000</td>\n",
       "      <td>180.917000</td>\n",
       "      <td>0.910000</td>\n",
       "    </tr>\n",
       "  </tbody>\n",
       "</table>\n",
       "</div>"
      ],
      "text/plain": [
       "         duration      energy        key    loudness        mode  speechiness  \\\n",
       "count  100.000000  100.000000  100.00000  100.000000  100.000000   100.000000   \n",
       "mean     3.404900    0.587650    5.05000   -6.577120    0.560000     0.075461   \n",
       "std      0.927022    0.168273    3.82542    2.447338    0.498888     0.068065   \n",
       "min      0.730000    0.157000    0.00000  -14.067000    0.000000     0.025300   \n",
       "25%      2.910000    0.477750    1.00000   -7.676250    0.000000     0.036100   \n",
       "50%      3.370000    0.609000    5.00000   -6.262500    1.000000     0.051800   \n",
       "75%      3.630000    0.707750    8.00000   -4.786750    1.000000     0.080650   \n",
       "max     10.220000    0.883000   11.00000   -2.724000    1.000000     0.368000   \n",
       "\n",
       "       acousticness  instrumentalness    liveness     valence       tempo  \\\n",
       "count    100.000000        100.000000  100.000000  100.000000  100.000000   \n",
       "mean       0.314539          0.070682    0.161737    0.517354  121.548260   \n",
       "std        0.281076          0.221947    0.112657    0.237512   29.148613   \n",
       "min        0.000280          0.000000    0.034100    0.059200   71.884000   \n",
       "25%        0.090750          0.000000    0.088375    0.329000   97.476250   \n",
       "50%        0.238500          0.000000    0.120000    0.542000  117.037500   \n",
       "75%        0.519750          0.000083    0.205250    0.711500  141.733750   \n",
       "max        0.941000          0.941000    0.509000    0.967000  180.917000   \n",
       "\n",
       "       danceability  \n",
       "count    100.000000  \n",
       "mean       0.647900  \n",
       "std        0.126942  \n",
       "min        0.352000  \n",
       "25%        0.566750  \n",
       "50%        0.663500  \n",
       "75%        0.734000  \n",
       "max        0.910000  "
      ]
     },
     "execution_count": 3,
     "metadata": {},
     "output_type": "execute_result"
    }
   ],
   "source": [
    "df.describe()"
   ]
  },
  {
   "cell_type": "markdown",
   "id": "a0b93738",
   "metadata": {
    "papermill": {
     "duration": 0.00627,
     "end_time": "2023-03-03T18:02:00.105951",
     "exception": false,
     "start_time": "2023-03-03T18:02:00.099681",
     "status": "completed"
    },
    "tags": []
   },
   "source": [
    "### info of the dataset"
   ]
  },
  {
   "cell_type": "code",
   "execution_count": 4,
   "id": "fde45d2c",
   "metadata": {
    "execution": {
     "iopub.execute_input": "2023-03-03T18:02:00.121498Z",
     "iopub.status.busy": "2023-03-03T18:02:00.121025Z",
     "iopub.status.idle": "2023-03-03T18:02:00.140579Z",
     "shell.execute_reply": "2023-03-03T18:02:00.138616Z"
    },
    "papermill": {
     "duration": 0.030693,
     "end_time": "2023-03-03T18:02:00.143355",
     "exception": false,
     "start_time": "2023-03-03T18:02:00.112662",
     "status": "completed"
    },
    "tags": []
   },
   "outputs": [
    {
     "name": "stdout",
     "output_type": "stream",
     "text": [
      "<class 'pandas.core.frame.DataFrame'>\n",
      "RangeIndex: 100 entries, 0 to 99\n",
      "Data columns (total 14 columns):\n",
      " #   Column            Non-Null Count  Dtype  \n",
      "---  ------            --------------  -----  \n",
      " 0   id                100 non-null    object \n",
      " 1   name              100 non-null    object \n",
      " 2   duration          100 non-null    float64\n",
      " 3   energy            100 non-null    float64\n",
      " 4   key               100 non-null    int64  \n",
      " 5   loudness          100 non-null    float64\n",
      " 6   mode              100 non-null    int64  \n",
      " 7   speechiness       100 non-null    float64\n",
      " 8   acousticness      100 non-null    float64\n",
      " 9   instrumentalness  100 non-null    float64\n",
      " 10  liveness          100 non-null    float64\n",
      " 11  valence           100 non-null    float64\n",
      " 12  tempo             100 non-null    float64\n",
      " 13  danceability      100 non-null    float64\n",
      "dtypes: float64(10), int64(2), object(2)\n",
      "memory usage: 11.1+ KB\n"
     ]
    }
   ],
   "source": [
    "df.info()"
   ]
  },
  {
   "cell_type": "markdown",
   "id": "7ccb923f",
   "metadata": {
    "papermill": {
     "duration": 0.006598,
     "end_time": "2023-03-03T18:02:00.156926",
     "exception": false,
     "start_time": "2023-03-03T18:02:00.150328",
     "status": "completed"
    },
    "tags": []
   },
   "source": [
    "## check if there is any null value in the dataset"
   ]
  },
  {
   "cell_type": "code",
   "execution_count": 5,
   "id": "c00016bb",
   "metadata": {
    "execution": {
     "iopub.execute_input": "2023-03-03T18:02:00.172872Z",
     "iopub.status.busy": "2023-03-03T18:02:00.172445Z",
     "iopub.status.idle": "2023-03-03T18:02:00.184189Z",
     "shell.execute_reply": "2023-03-03T18:02:00.182726Z"
    },
    "papermill": {
     "duration": 0.022748,
     "end_time": "2023-03-03T18:02:00.186716",
     "exception": false,
     "start_time": "2023-03-03T18:02:00.163968",
     "status": "completed"
    },
    "tags": []
   },
   "outputs": [
    {
     "data": {
      "text/plain": [
       "id                  0\n",
       "name                0\n",
       "duration            0\n",
       "energy              0\n",
       "key                 0\n",
       "loudness            0\n",
       "mode                0\n",
       "speechiness         0\n",
       "acousticness        0\n",
       "instrumentalness    0\n",
       "liveness            0\n",
       "valence             0\n",
       "tempo               0\n",
       "danceability        0\n",
       "dtype: int64"
      ]
     },
     "execution_count": 5,
     "metadata": {},
     "output_type": "execute_result"
    }
   ],
   "source": [
    "df.isnull().sum()"
   ]
  },
  {
   "cell_type": "markdown",
   "id": "5ce70d0b",
   "metadata": {
    "papermill": {
     "duration": 0.0065,
     "end_time": "2023-03-03T18:02:00.200268",
     "exception": false,
     "start_time": "2023-03-03T18:02:00.193768",
     "status": "completed"
    },
    "tags": []
   },
   "source": [
    "### Size of Dataset"
   ]
  },
  {
   "cell_type": "code",
   "execution_count": 6,
   "id": "18e30e69",
   "metadata": {
    "execution": {
     "iopub.execute_input": "2023-03-03T18:02:00.216306Z",
     "iopub.status.busy": "2023-03-03T18:02:00.215848Z",
     "iopub.status.idle": "2023-03-03T18:02:00.222252Z",
     "shell.execute_reply": "2023-03-03T18:02:00.221296Z"
    },
    "papermill": {
     "duration": 0.017847,
     "end_time": "2023-03-03T18:02:00.224878",
     "exception": false,
     "start_time": "2023-03-03T18:02:00.207031",
     "status": "completed"
    },
    "tags": []
   },
   "outputs": [
    {
     "data": {
      "text/plain": [
       "(100, 14)"
      ]
     },
     "execution_count": 6,
     "metadata": {},
     "output_type": "execute_result"
    }
   ],
   "source": [
    "df.shape"
   ]
  },
  {
   "cell_type": "code",
   "execution_count": 7,
   "id": "91d52a59",
   "metadata": {
    "execution": {
     "iopub.execute_input": "2023-03-03T18:02:00.242557Z",
     "iopub.status.busy": "2023-03-03T18:02:00.241379Z",
     "iopub.status.idle": "2023-03-03T18:02:00.250724Z",
     "shell.execute_reply": "2023-03-03T18:02:00.249386Z"
    },
    "papermill": {
     "duration": 0.020673,
     "end_time": "2023-03-03T18:02:00.253637",
     "exception": false,
     "start_time": "2023-03-03T18:02:00.232964",
     "status": "completed"
    },
    "tags": []
   },
   "outputs": [
    {
     "data": {
      "text/plain": [
       "86"
      ]
     },
     "execution_count": 7,
     "metadata": {},
     "output_type": "execute_result"
    }
   ],
   "source": [
    "df['id'].value_counts().count()"
   ]
  },
  {
   "cell_type": "code",
   "execution_count": 8,
   "id": "2ce9b01a",
   "metadata": {
    "execution": {
     "iopub.execute_input": "2023-03-03T18:02:00.269873Z",
     "iopub.status.busy": "2023-03-03T18:02:00.269458Z",
     "iopub.status.idle": "2023-03-03T18:02:00.296767Z",
     "shell.execute_reply": "2023-03-03T18:02:00.295042Z"
    },
    "papermill": {
     "duration": 0.038873,
     "end_time": "2023-03-03T18:02:00.299654",
     "exception": false,
     "start_time": "2023-03-03T18:02:00.260781",
     "status": "completed"
    },
    "tags": []
   },
   "outputs": [
    {
     "data": {
      "text/html": [
       "<div>\n",
       "<style scoped>\n",
       "    .dataframe tbody tr th:only-of-type {\n",
       "        vertical-align: middle;\n",
       "    }\n",
       "\n",
       "    .dataframe tbody tr th {\n",
       "        vertical-align: top;\n",
       "    }\n",
       "\n",
       "    .dataframe thead th {\n",
       "        text-align: right;\n",
       "    }\n",
       "</style>\n",
       "<table border=\"1\" class=\"dataframe\">\n",
       "  <thead>\n",
       "    <tr style=\"text-align: right;\">\n",
       "      <th></th>\n",
       "      <th>id</th>\n",
       "      <th>name</th>\n",
       "      <th>duration</th>\n",
       "      <th>energy</th>\n",
       "      <th>key</th>\n",
       "      <th>loudness</th>\n",
       "      <th>mode</th>\n",
       "      <th>speechiness</th>\n",
       "      <th>acousticness</th>\n",
       "      <th>instrumentalness</th>\n",
       "      <th>liveness</th>\n",
       "      <th>valence</th>\n",
       "      <th>tempo</th>\n",
       "      <th>danceability</th>\n",
       "    </tr>\n",
       "  </thead>\n",
       "  <tbody>\n",
       "    <tr>\n",
       "      <th>59</th>\n",
       "      <td>54bFM56PmE4YLRnqpW6Tha</td>\n",
       "      <td>Therefore I Am Billie Eilish</td>\n",
       "      <td>2.91</td>\n",
       "      <td>0.340</td>\n",
       "      <td>11</td>\n",
       "      <td>-7.773</td>\n",
       "      <td>0</td>\n",
       "      <td>0.0697</td>\n",
       "      <td>0.21800</td>\n",
       "      <td>0.130000</td>\n",
       "      <td>0.0550</td>\n",
       "      <td>0.716</td>\n",
       "      <td>94.009</td>\n",
       "      <td>0.889</td>\n",
       "    </tr>\n",
       "    <tr>\n",
       "      <th>76</th>\n",
       "      <td>6UelLqGlWMcVH1E5c4H7lY</td>\n",
       "      <td>Watermelon Sugar Harry Styles</td>\n",
       "      <td>2.90</td>\n",
       "      <td>0.816</td>\n",
       "      <td>0</td>\n",
       "      <td>-4.209</td>\n",
       "      <td>1</td>\n",
       "      <td>0.0465</td>\n",
       "      <td>0.12200</td>\n",
       "      <td>0.000000</td>\n",
       "      <td>0.3350</td>\n",
       "      <td>0.557</td>\n",
       "      <td>95.390</td>\n",
       "      <td>0.548</td>\n",
       "    </tr>\n",
       "    <tr>\n",
       "      <th>84</th>\n",
       "      <td>3DarAbFujv6eYNliUTyqtz</td>\n",
       "      <td>Kiss Me More (feat. SZA) Doja Cat</td>\n",
       "      <td>3.48</td>\n",
       "      <td>0.705</td>\n",
       "      <td>8</td>\n",
       "      <td>-3.463</td>\n",
       "      <td>1</td>\n",
       "      <td>0.0284</td>\n",
       "      <td>0.25900</td>\n",
       "      <td>0.000089</td>\n",
       "      <td>0.1200</td>\n",
       "      <td>0.781</td>\n",
       "      <td>110.970</td>\n",
       "      <td>0.764</td>\n",
       "    </tr>\n",
       "    <tr>\n",
       "      <th>85</th>\n",
       "      <td>7cYNQkJoyHVhP8Drb2n6d5</td>\n",
       "      <td>Don't Start Now Dua Lipa</td>\n",
       "      <td>4.45</td>\n",
       "      <td>0.588</td>\n",
       "      <td>4</td>\n",
       "      <td>-12.406</td>\n",
       "      <td>0</td>\n",
       "      <td>0.0569</td>\n",
       "      <td>0.00168</td>\n",
       "      <td>0.008140</td>\n",
       "      <td>0.0809</td>\n",
       "      <td>0.673</td>\n",
       "      <td>114.988</td>\n",
       "      <td>0.726</td>\n",
       "    </tr>\n",
       "    <tr>\n",
       "      <th>89</th>\n",
       "      <td>2V2lFQQQR3iqSUG5jwDQd9</td>\n",
       "      <td>Hold On Justin Bieber</td>\n",
       "      <td>2.85</td>\n",
       "      <td>0.634</td>\n",
       "      <td>1</td>\n",
       "      <td>-5.797</td>\n",
       "      <td>0</td>\n",
       "      <td>0.0413</td>\n",
       "      <td>0.01060</td>\n",
       "      <td>0.000000</td>\n",
       "      <td>0.1320</td>\n",
       "      <td>0.290</td>\n",
       "      <td>139.980</td>\n",
       "      <td>0.658</td>\n",
       "    </tr>\n",
       "    <tr>\n",
       "      <th>91</th>\n",
       "      <td>5wANPM4fQCJwkGd4rN57mH</td>\n",
       "      <td>drivers license Olivia Rodrigo</td>\n",
       "      <td>4.03</td>\n",
       "      <td>0.431</td>\n",
       "      <td>10</td>\n",
       "      <td>-8.810</td>\n",
       "      <td>1</td>\n",
       "      <td>0.0578</td>\n",
       "      <td>0.76800</td>\n",
       "      <td>0.000014</td>\n",
       "      <td>0.1060</td>\n",
       "      <td>0.137</td>\n",
       "      <td>143.875</td>\n",
       "      <td>0.561</td>\n",
       "    </tr>\n",
       "    <tr>\n",
       "      <th>92</th>\n",
       "      <td>4jPy3l0RUwlUI9T5XHBW2m</td>\n",
       "      <td>Mood (feat. iann dior) 24kGoldn</td>\n",
       "      <td>2.34</td>\n",
       "      <td>0.716</td>\n",
       "      <td>7</td>\n",
       "      <td>-3.671</td>\n",
       "      <td>0</td>\n",
       "      <td>0.0361</td>\n",
       "      <td>0.17400</td>\n",
       "      <td>0.000000</td>\n",
       "      <td>0.3240</td>\n",
       "      <td>0.732</td>\n",
       "      <td>91.007</td>\n",
       "      <td>0.701</td>\n",
       "    </tr>\n",
       "    <tr>\n",
       "      <th>93</th>\n",
       "      <td>2JPLbjOn0wPCngEot2STUS</td>\n",
       "      <td>Yonaguni Bad Bunny</td>\n",
       "      <td>3.45</td>\n",
       "      <td>0.648</td>\n",
       "      <td>1</td>\n",
       "      <td>-4.601</td>\n",
       "      <td>1</td>\n",
       "      <td>0.1180</td>\n",
       "      <td>0.27600</td>\n",
       "      <td>0.000000</td>\n",
       "      <td>0.1350</td>\n",
       "      <td>0.440</td>\n",
       "      <td>179.951</td>\n",
       "      <td>0.644</td>\n",
       "    </tr>\n",
       "    <tr>\n",
       "      <th>97</th>\n",
       "      <td>54bFM56PmE4YLRnqpW6Tha</td>\n",
       "      <td>Therefore I Am Billie Eilish</td>\n",
       "      <td>2.91</td>\n",
       "      <td>0.340</td>\n",
       "      <td>11</td>\n",
       "      <td>-7.773</td>\n",
       "      <td>0</td>\n",
       "      <td>0.0697</td>\n",
       "      <td>0.21800</td>\n",
       "      <td>0.130000</td>\n",
       "      <td>0.0550</td>\n",
       "      <td>0.716</td>\n",
       "      <td>94.009</td>\n",
       "      <td>0.889</td>\n",
       "    </tr>\n",
       "    <tr>\n",
       "      <th>99</th>\n",
       "      <td>1SC5rEoYDGUK4NfG82494W</td>\n",
       "      <td>Montero (Call Me By Your Name) Lil Nas X</td>\n",
       "      <td>2.30</td>\n",
       "      <td>0.503</td>\n",
       "      <td>8</td>\n",
       "      <td>-6.725</td>\n",
       "      <td>0</td>\n",
       "      <td>0.2200</td>\n",
       "      <td>0.29300</td>\n",
       "      <td>0.000000</td>\n",
       "      <td>0.4050</td>\n",
       "      <td>0.710</td>\n",
       "      <td>178.781</td>\n",
       "      <td>0.593</td>\n",
       "    </tr>\n",
       "  </tbody>\n",
       "</table>\n",
       "</div>"
      ],
      "text/plain": [
       "                        id                                      name  \\\n",
       "59  54bFM56PmE4YLRnqpW6Tha              Therefore I Am Billie Eilish   \n",
       "76  6UelLqGlWMcVH1E5c4H7lY             Watermelon Sugar Harry Styles   \n",
       "84  3DarAbFujv6eYNliUTyqtz         Kiss Me More (feat. SZA) Doja Cat   \n",
       "85  7cYNQkJoyHVhP8Drb2n6d5                  Don't Start Now Dua Lipa   \n",
       "89  2V2lFQQQR3iqSUG5jwDQd9                     Hold On Justin Bieber   \n",
       "91  5wANPM4fQCJwkGd4rN57mH            drivers license Olivia Rodrigo   \n",
       "92  4jPy3l0RUwlUI9T5XHBW2m           Mood (feat. iann dior) 24kGoldn   \n",
       "93  2JPLbjOn0wPCngEot2STUS                        Yonaguni Bad Bunny   \n",
       "97  54bFM56PmE4YLRnqpW6Tha              Therefore I Am Billie Eilish   \n",
       "99  1SC5rEoYDGUK4NfG82494W  Montero (Call Me By Your Name) Lil Nas X   \n",
       "\n",
       "    duration  energy  key  loudness  mode  speechiness  acousticness  \\\n",
       "59      2.91   0.340   11    -7.773     0       0.0697       0.21800   \n",
       "76      2.90   0.816    0    -4.209     1       0.0465       0.12200   \n",
       "84      3.48   0.705    8    -3.463     1       0.0284       0.25900   \n",
       "85      4.45   0.588    4   -12.406     0       0.0569       0.00168   \n",
       "89      2.85   0.634    1    -5.797     0       0.0413       0.01060   \n",
       "91      4.03   0.431   10    -8.810     1       0.0578       0.76800   \n",
       "92      2.34   0.716    7    -3.671     0       0.0361       0.17400   \n",
       "93      3.45   0.648    1    -4.601     1       0.1180       0.27600   \n",
       "97      2.91   0.340   11    -7.773     0       0.0697       0.21800   \n",
       "99      2.30   0.503    8    -6.725     0       0.2200       0.29300   \n",
       "\n",
       "    instrumentalness  liveness  valence    tempo  danceability  \n",
       "59          0.130000    0.0550    0.716   94.009         0.889  \n",
       "76          0.000000    0.3350    0.557   95.390         0.548  \n",
       "84          0.000089    0.1200    0.781  110.970         0.764  \n",
       "85          0.008140    0.0809    0.673  114.988         0.726  \n",
       "89          0.000000    0.1320    0.290  139.980         0.658  \n",
       "91          0.000014    0.1060    0.137  143.875         0.561  \n",
       "92          0.000000    0.3240    0.732   91.007         0.701  \n",
       "93          0.000000    0.1350    0.440  179.951         0.644  \n",
       "97          0.130000    0.0550    0.716   94.009         0.889  \n",
       "99          0.000000    0.4050    0.710  178.781         0.593  "
      ]
     },
     "execution_count": 8,
     "metadata": {},
     "output_type": "execute_result"
    }
   ],
   "source": [
    "duplicateRows = df[df[\"name\"].duplicated()]\n",
    "#view duplicat e rows\n",
    "duplicateRows"
   ]
  },
  {
   "cell_type": "code",
   "execution_count": 9,
   "id": "327e9908",
   "metadata": {
    "execution": {
     "iopub.execute_input": "2023-03-03T18:02:00.317272Z",
     "iopub.status.busy": "2023-03-03T18:02:00.316263Z",
     "iopub.status.idle": "2023-03-03T18:02:00.332711Z",
     "shell.execute_reply": "2023-03-03T18:02:00.331334Z"
    },
    "papermill": {
     "duration": 0.028424,
     "end_time": "2023-03-03T18:02:00.335544",
     "exception": false,
     "start_time": "2023-03-03T18:02:00.307120",
     "status": "completed"
    },
    "tags": []
   },
   "outputs": [
    {
     "data": {
      "text/plain": [
       "id                  86\n",
       "name                90\n",
       "duration            63\n",
       "energy              80\n",
       "key                 12\n",
       "loudness            86\n",
       "mode                 2\n",
       "speechiness         83\n",
       "acousticness        83\n",
       "instrumentalness    41\n",
       "liveness            78\n",
       "valence             82\n",
       "tempo               85\n",
       "danceability        83\n",
       "dtype: int64"
      ]
     },
     "execution_count": 9,
     "metadata": {},
     "output_type": "execute_result"
    }
   ],
   "source": [
    "a=df.nunique()\n",
    "a"
   ]
  },
  {
   "cell_type": "code",
   "execution_count": 10,
   "id": "2ef4ed1e",
   "metadata": {
    "execution": {
     "iopub.execute_input": "2023-03-03T18:02:00.356725Z",
     "iopub.status.busy": "2023-03-03T18:02:00.356063Z",
     "iopub.status.idle": "2023-03-03T18:02:02.684462Z",
     "shell.execute_reply": "2023-03-03T18:02:02.683502Z"
    },
    "papermill": {
     "duration": 2.345358,
     "end_time": "2023-03-03T18:02:02.688716",
     "exception": false,
     "start_time": "2023-03-03T18:02:00.343358",
     "status": "completed"
    },
    "tags": []
   },
   "outputs": [
    {
     "data": {
      "text/plain": [
       "<function matplotlib.pyplot.show(close=None, block=None)>"
      ]
     },
     "execution_count": 10,
     "metadata": {},
     "output_type": "execute_result"
    },
    {
     "data": {
      "image/png": "[encoded data removed]",
      "text/plain": [
       "<Figure size 640x480 with 1 Axes>"
      ]
     },
     "metadata": {},
     "output_type": "display_data"
    }
   ],
   "source": [
    "import matplotlib.pyplot as plt\n",
    "x = df['name']\n",
    "y = df['duration']\n",
    "plt.xlabel('Name')\n",
    "plt.ylabel('Duration')\n",
    "plt.scatter(x,y)\n",
    "plt.xticks(rotation =90)\n",
    "plt.tick_params(axis='x', which='major', labelsize=4)\n",
    "plt.show"
   ]
  },
  {
   "cell_type": "code",
   "execution_count": 11,
   "id": "0c6a44cf",
   "metadata": {
    "execution": {
     "iopub.execute_input": "2023-03-03T18:02:02.711256Z",
     "iopub.status.busy": "2023-03-03T18:02:02.710464Z",
     "iopub.status.idle": "2023-03-03T18:02:02.956456Z",
     "shell.execute_reply": "2023-03-03T18:02:02.955499Z"
    },
    "papermill": {
     "duration": 0.259859,
     "end_time": "2023-03-03T18:02:02.959127",
     "exception": false,
     "start_time": "2023-03-03T18:02:02.699268",
     "status": "completed"
    },
    "tags": []
   },
   "outputs": [
    {
     "data": {
      "text/plain": [
       "<function matplotlib.pyplot.show(close=None, block=None)>"
      ]
     },
     "execution_count": 11,
     "metadata": {},
     "output_type": "execute_result"
    },
    {
     "data": {
      "image/png": "[encoded data removed]",
      "text/plain": [
       "<Figure size 640x480 with 1 Axes>"
      ]
     },
     "metadata": {},
     "output_type": "display_data"
    }
   ],
   "source": [
    "x = df['energy']\n",
    "y = df['duration']\n",
    "plt.scatter(x,y)\n",
    "plt.xlabel(\"Energy\")\n",
    "plt.ylabel('Duration')\n",
    "plt.show"
   ]
  },
  {
   "cell_type": "code",
   "execution_count": 12,
   "id": "1afdb7a8",
   "metadata": {
    "execution": {
     "iopub.execute_input": "2023-03-03T18:02:02.981765Z",
     "iopub.status.busy": "2023-03-03T18:02:02.980609Z",
     "iopub.status.idle": "2023-03-03T18:02:05.578552Z",
     "shell.execute_reply": "2023-03-03T18:02:05.577491Z"
    },
    "papermill": {
     "duration": 2.612776,
     "end_time": "2023-03-03T18:02:05.581635",
     "exception": false,
     "start_time": "2023-03-03T18:02:02.968859",
     "status": "completed"
    },
    "tags": []
   },
   "outputs": [
    {
     "data": {
      "text/plain": [
       "<function matplotlib.pyplot.show(close=None, block=None)>"
      ]
     },
     "execution_count": 12,
     "metadata": {},
     "output_type": "execute_result"
    },
    {
     "data": {
      "image/png": "[encoded data removed]",
      "text/plain": [
       "<Figure size 640x480 with 1 Axes>"
      ]
     },
     "metadata": {},
     "output_type": "display_data"
    }
   ],
   "source": [
    "x = df['name']\n",
    "plt.hist(x,bins=100 ,edgecolor = 'white')\n",
    "plt.xticks(rotation =90)\n",
    "plt.tick_params(axis='x', which='major', labelsize=4)\n",
    "plt.show"
   ]
  },
  {
   "cell_type": "code",
   "execution_count": 13,
   "id": "6edacfad",
   "metadata": {
    "execution": {
     "iopub.execute_input": "2023-03-03T18:02:05.607832Z",
     "iopub.status.busy": "2023-03-03T18:02:05.607346Z",
     "iopub.status.idle": "2023-03-03T18:02:05.629641Z",
     "shell.execute_reply": "2023-03-03T18:02:05.628383Z"
    },
    "papermill": {
     "duration": 0.038879,
     "end_time": "2023-03-03T18:02:05.632161",
     "exception": false,
     "start_time": "2023-03-03T18:02:05.593282",
     "status": "completed"
    },
    "tags": []
   },
   "outputs": [
    {
     "data": {
      "text/html": [
       "<div>\n",
       "<style scoped>\n",
       "    .dataframe tbody tr th:only-of-type {\n",
       "        vertical-align: middle;\n",
       "    }\n",
       "\n",
       "    .dataframe tbody tr th {\n",
       "        vertical-align: top;\n",
       "    }\n",
       "\n",
       "    .dataframe thead th {\n",
       "        text-align: right;\n",
       "    }\n",
       "</style>\n",
       "<table border=\"1\" class=\"dataframe\">\n",
       "  <thead>\n",
       "    <tr style=\"text-align: right;\">\n",
       "      <th></th>\n",
       "      <th>id</th>\n",
       "      <th>name</th>\n",
       "      <th>duration</th>\n",
       "      <th>energy</th>\n",
       "      <th>key</th>\n",
       "      <th>loudness</th>\n",
       "      <th>mode</th>\n",
       "      <th>speechiness</th>\n",
       "      <th>acousticness</th>\n",
       "      <th>instrumentalness</th>\n",
       "      <th>liveness</th>\n",
       "      <th>valence</th>\n",
       "      <th>tempo</th>\n",
       "      <th>danceability</th>\n",
       "    </tr>\n",
       "  </thead>\n",
       "  <tbody>\n",
       "    <tr>\n",
       "      <th>0</th>\n",
       "      <td>4ZtFanR9U6ndgddUvNcjcG</td>\n",
       "      <td>Good 4 U Olivia Rodrigo</td>\n",
       "      <td>2.97</td>\n",
       "      <td>0.664</td>\n",
       "      <td>9</td>\n",
       "      <td>-5.044</td>\n",
       "      <td>1</td>\n",
       "      <td>0.1540</td>\n",
       "      <td>0.33500</td>\n",
       "      <td>0.000</td>\n",
       "      <td>0.0849</td>\n",
       "      <td>0.688</td>\n",
       "      <td>166.928</td>\n",
       "      <td>0.563</td>\n",
       "    </tr>\n",
       "    <tr>\n",
       "      <th>1</th>\n",
       "      <td>5fxyZf6m2xHeSrOzUfcJrq</td>\n",
       "      <td>Stay The Kid LAROI &amp; Justin Bieber</td>\n",
       "      <td>2.30</td>\n",
       "      <td>0.506</td>\n",
       "      <td>8</td>\n",
       "      <td>-11.275</td>\n",
       "      <td>1</td>\n",
       "      <td>0.0589</td>\n",
       "      <td>0.37900</td>\n",
       "      <td>0.868</td>\n",
       "      <td>0.1100</td>\n",
       "      <td>0.454</td>\n",
       "      <td>170.054</td>\n",
       "      <td>0.564</td>\n",
       "    </tr>\n",
       "    <tr>\n",
       "      <th>2</th>\n",
       "      <td>5nujrmhLynf4yMoMtj8AQF</td>\n",
       "      <td>Levitating Dua Lipa feat. DaBaby</td>\n",
       "      <td>3.38</td>\n",
       "      <td>0.825</td>\n",
       "      <td>6</td>\n",
       "      <td>-3.787</td>\n",
       "      <td>0</td>\n",
       "      <td>0.0601</td>\n",
       "      <td>0.00883</td>\n",
       "      <td>0.000</td>\n",
       "      <td>0.0674</td>\n",
       "      <td>0.915</td>\n",
       "      <td>102.977</td>\n",
       "      <td>0.702</td>\n",
       "    </tr>\n",
       "    <tr>\n",
       "      <th>3</th>\n",
       "      <td>4iJyoBOLtHqaGxP12qzhQI</td>\n",
       "      <td>Peaches Justin Bieber feat. Daniel Caesar &amp; Gi...</td>\n",
       "      <td>3.30</td>\n",
       "      <td>0.696</td>\n",
       "      <td>0</td>\n",
       "      <td>-6.181</td>\n",
       "      <td>1</td>\n",
       "      <td>0.1190</td>\n",
       "      <td>0.32100</td>\n",
       "      <td>0.000</td>\n",
       "      <td>0.4200</td>\n",
       "      <td>0.464</td>\n",
       "      <td>90.030</td>\n",
       "      <td>0.677</td>\n",
       "    </tr>\n",
       "    <tr>\n",
       "      <th>4</th>\n",
       "      <td>1SC5rEoYDGUK4NfG82494W</td>\n",
       "      <td>Montero (Call Me By Your Name) Lil Nas X</td>\n",
       "      <td>2.30</td>\n",
       "      <td>0.503</td>\n",
       "      <td>8</td>\n",
       "      <td>-6.725</td>\n",
       "      <td>0</td>\n",
       "      <td>0.2200</td>\n",
       "      <td>0.29300</td>\n",
       "      <td>0.000</td>\n",
       "      <td>0.4050</td>\n",
       "      <td>0.710</td>\n",
       "      <td>178.781</td>\n",
       "      <td>0.593</td>\n",
       "    </tr>\n",
       "  </tbody>\n",
       "</table>\n",
       "</div>"
      ],
      "text/plain": [
       "                       id                                               name  \\\n",
       "0  4ZtFanR9U6ndgddUvNcjcG                            Good 4 U Olivia Rodrigo   \n",
       "1  5fxyZf6m2xHeSrOzUfcJrq                 Stay The Kid LAROI & Justin Bieber   \n",
       "2  5nujrmhLynf4yMoMtj8AQF                   Levitating Dua Lipa feat. DaBaby   \n",
       "3  4iJyoBOLtHqaGxP12qzhQI  Peaches Justin Bieber feat. Daniel Caesar & Gi...   \n",
       "4  1SC5rEoYDGUK4NfG82494W           Montero (Call Me By Your Name) Lil Nas X   \n",
       "\n",
       "   duration  energy  key  loudness  mode  speechiness  acousticness  \\\n",
       "0      2.97   0.664    9    -5.044     1       0.1540       0.33500   \n",
       "1      2.30   0.506    8   -11.275     1       0.0589       0.37900   \n",
       "2      3.38   0.825    6    -3.787     0       0.0601       0.00883   \n",
       "3      3.30   0.696    0    -6.181     1       0.1190       0.32100   \n",
       "4      2.30   0.503    8    -6.725     0       0.2200       0.29300   \n",
       "\n",
       "   instrumentalness  liveness  valence    tempo  danceability  \n",
       "0             0.000    0.0849    0.688  166.928         0.563  \n",
       "1             0.868    0.1100    0.454  170.054         0.564  \n",
       "2             0.000    0.0674    0.915  102.977         0.702  \n",
       "3             0.000    0.4200    0.464   90.030         0.677  \n",
       "4             0.000    0.4050    0.710  178.781         0.593  "
      ]
     },
     "execution_count": 13,
     "metadata": {},
     "output_type": "execute_result"
    }
   ],
   "source": [
    "df.head()"
   ]
  },
  {
   "cell_type": "code",
   "execution_count": 14,
   "id": "66cc5673",
   "metadata": {
    "execution": {
     "iopub.execute_input": "2023-03-03T18:02:05.656667Z",
     "iopub.status.busy": "2023-03-03T18:02:05.656175Z",
     "iopub.status.idle": "2023-03-03T18:02:05.678903Z",
     "shell.execute_reply": "2023-03-03T18:02:05.677744Z"
    },
    "papermill": {
     "duration": 0.038155,
     "end_time": "2023-03-03T18:02:05.681624",
     "exception": false,
     "start_time": "2023-03-03T18:02:05.643469",
     "status": "completed"
    },
    "tags": []
   },
   "outputs": [
    {
     "data": {
      "text/html": [
       "<div>\n",
       "<style scoped>\n",
       "    .dataframe tbody tr th:only-of-type {\n",
       "        vertical-align: middle;\n",
       "    }\n",
       "\n",
       "    .dataframe tbody tr th {\n",
       "        vertical-align: top;\n",
       "    }\n",
       "\n",
       "    .dataframe thead th {\n",
       "        text-align: right;\n",
       "    }\n",
       "</style>\n",
       "<table border=\"1\" class=\"dataframe\">\n",
       "  <thead>\n",
       "    <tr style=\"text-align: right;\">\n",
       "      <th></th>\n",
       "      <th>id</th>\n",
       "      <th>name</th>\n",
       "      <th>duration</th>\n",
       "      <th>energy</th>\n",
       "      <th>key</th>\n",
       "      <th>loudness</th>\n",
       "      <th>mode</th>\n",
       "      <th>speechiness</th>\n",
       "      <th>acousticness</th>\n",
       "      <th>instrumentalness</th>\n",
       "      <th>liveness</th>\n",
       "      <th>valence</th>\n",
       "      <th>tempo</th>\n",
       "      <th>danceability</th>\n",
       "    </tr>\n",
       "  </thead>\n",
       "  <tbody>\n",
       "    <tr>\n",
       "      <th>95</th>\n",
       "      <td>4iJyoBOLtHqaGxP12qzhQI</td>\n",
       "      <td>Peaches (feat. Daniel Caesar &amp; Giveon) Justin ...</td>\n",
       "      <td>3.30</td>\n",
       "      <td>0.696</td>\n",
       "      <td>0</td>\n",
       "      <td>-6.181</td>\n",
       "      <td>1</td>\n",
       "      <td>0.1190</td>\n",
       "      <td>0.3210</td>\n",
       "      <td>0.00</td>\n",
       "      <td>0.4200</td>\n",
       "      <td>0.464</td>\n",
       "      <td>90.030</td>\n",
       "      <td>0.677</td>\n",
       "    </tr>\n",
       "    <tr>\n",
       "      <th>96</th>\n",
       "      <td>1FSWSs9CL01RCYxXtm08Rf</td>\n",
       "      <td>Dance With Me Tonight Olly Murs</td>\n",
       "      <td>3.37</td>\n",
       "      <td>0.748</td>\n",
       "      <td>11</td>\n",
       "      <td>-5.922</td>\n",
       "      <td>0</td>\n",
       "      <td>0.0589</td>\n",
       "      <td>0.3050</td>\n",
       "      <td>0.00</td>\n",
       "      <td>0.0811</td>\n",
       "      <td>0.964</td>\n",
       "      <td>163.984</td>\n",
       "      <td>0.672</td>\n",
       "    </tr>\n",
       "    <tr>\n",
       "      <th>97</th>\n",
       "      <td>54bFM56PmE4YLRnqpW6Tha</td>\n",
       "      <td>Therefore I Am Billie Eilish</td>\n",
       "      <td>2.91</td>\n",
       "      <td>0.340</td>\n",
       "      <td>11</td>\n",
       "      <td>-7.773</td>\n",
       "      <td>0</td>\n",
       "      <td>0.0697</td>\n",
       "      <td>0.2180</td>\n",
       "      <td>0.13</td>\n",
       "      <td>0.0550</td>\n",
       "      <td>0.716</td>\n",
       "      <td>94.009</td>\n",
       "      <td>0.889</td>\n",
       "    </tr>\n",
       "    <tr>\n",
       "      <th>98</th>\n",
       "      <td>5jsw9uXEGuKyJzs0boZ1bT</td>\n",
       "      <td>Stitches Shawn Mendes</td>\n",
       "      <td>3.45</td>\n",
       "      <td>0.754</td>\n",
       "      <td>1</td>\n",
       "      <td>-6.684</td>\n",
       "      <td>1</td>\n",
       "      <td>0.0615</td>\n",
       "      <td>0.0151</td>\n",
       "      <td>0.00</td>\n",
       "      <td>0.0486</td>\n",
       "      <td>0.755</td>\n",
       "      <td>149.789</td>\n",
       "      <td>0.752</td>\n",
       "    </tr>\n",
       "    <tr>\n",
       "      <th>99</th>\n",
       "      <td>1SC5rEoYDGUK4NfG82494W</td>\n",
       "      <td>Montero (Call Me By Your Name) Lil Nas X</td>\n",
       "      <td>2.30</td>\n",
       "      <td>0.503</td>\n",
       "      <td>8</td>\n",
       "      <td>-6.725</td>\n",
       "      <td>0</td>\n",
       "      <td>0.2200</td>\n",
       "      <td>0.2930</td>\n",
       "      <td>0.00</td>\n",
       "      <td>0.4050</td>\n",
       "      <td>0.710</td>\n",
       "      <td>178.781</td>\n",
       "      <td>0.593</td>\n",
       "    </tr>\n",
       "  </tbody>\n",
       "</table>\n",
       "</div>"
      ],
      "text/plain": [
       "                        id                                               name  \\\n",
       "95  4iJyoBOLtHqaGxP12qzhQI  Peaches (feat. Daniel Caesar & Giveon) Justin ...   \n",
       "96  1FSWSs9CL01RCYxXtm08Rf                    Dance With Me Tonight Olly Murs   \n",
       "97  54bFM56PmE4YLRnqpW6Tha                       Therefore I Am Billie Eilish   \n",
       "98  5jsw9uXEGuKyJzs0boZ1bT                              Stitches Shawn Mendes   \n",
       "99  1SC5rEoYDGUK4NfG82494W           Montero (Call Me By Your Name) Lil Nas X   \n",
       "\n",
       "    duration  energy  key  loudness  mode  speechiness  acousticness  \\\n",
       "95      3.30   0.696    0    -6.181     1       0.1190        0.3210   \n",
       "96      3.37   0.748   11    -5.922     0       0.0589        0.3050   \n",
       "97      2.91   0.340   11    -7.773     0       0.0697        0.2180   \n",
       "98      3.45   0.754    1    -6.684     1       0.0615        0.0151   \n",
       "99      2.30   0.503    8    -6.725     0       0.2200        0.2930   \n",
       "\n",
       "    instrumentalness  liveness  valence    tempo  danceability  \n",
       "95              0.00    0.4200    0.464   90.030         0.677  \n",
       "96              0.00    0.0811    0.964  163.984         0.672  \n",
       "97              0.13    0.0550    0.716   94.009         0.889  \n",
       "98              0.00    0.0486    0.755  149.789         0.752  \n",
       "99              0.00    0.4050    0.710  178.781         0.593  "
      ]
     },
     "execution_count": 14,
     "metadata": {},
     "output_type": "execute_result"
    }
   ],
   "source": [
    "df.tail()"
   ]
  },
  {
   "cell_type": "code",
   "execution_count": 15,
   "id": "1721f756",
   "metadata": {
    "execution": {
     "iopub.execute_input": "2023-03-03T18:02:05.706791Z",
     "iopub.status.busy": "2023-03-03T18:02:05.706325Z",
     "iopub.status.idle": "2023-03-03T18:02:05.712982Z",
     "shell.execute_reply": "2023-03-03T18:02:05.711491Z"
    },
    "papermill": {
     "duration": 0.022782,
     "end_time": "2023-03-03T18:02:05.715770",
     "exception": false,
     "start_time": "2023-03-03T18:02:05.692988",
     "status": "completed"
    },
    "tags": []
   },
   "outputs": [],
   "source": [
    "df.drop(['id'], axis=1 , inplace = True)"
   ]
  },
  {
   "cell_type": "code",
   "execution_count": 16,
   "id": "bdb15076",
   "metadata": {
    "execution": {
     "iopub.execute_input": "2023-03-03T18:02:05.740543Z",
     "iopub.status.busy": "2023-03-03T18:02:05.740078Z",
     "iopub.status.idle": "2023-03-03T18:02:07.022273Z",
     "shell.execute_reply": "2023-03-03T18:02:07.020973Z"
    },
    "papermill": {
     "duration": 1.298152,
     "end_time": "2023-03-03T18:02:07.025335",
     "exception": false,
     "start_time": "2023-03-03T18:02:05.727183",
     "status": "completed"
    },
    "tags": []
   },
   "outputs": [],
   "source": [
    "import seaborn as sns\n",
    "import matplotlib.pyplot as plt\n",
    "from scipy.stats import norm"
   ]
  },
  {
   "cell_type": "code",
   "execution_count": 17,
   "id": "41cd87be",
   "metadata": {
    "execution": {
     "iopub.execute_input": "2023-03-03T18:02:07.050622Z",
     "iopub.status.busy": "2023-03-03T18:02:07.050137Z",
     "iopub.status.idle": "2023-03-03T18:02:07.548899Z",
     "shell.execute_reply": "2023-03-03T18:02:07.547882Z"
    },
    "papermill": {
     "duration": 0.514974,
     "end_time": "2023-03-03T18:02:07.551830",
     "exception": false,
     "start_time": "2023-03-03T18:02:07.036856",
     "status": "completed"
    },
    "tags": []
   },
   "outputs": [
    {
     "data": {
      "text/plain": [
       "<AxesSubplot:>"
      ]
     },
     "execution_count": 17,
     "metadata": {},
     "output_type": "execute_result"
    },
    {
     "data": {
      "image/png": "[encoded data removed]",
      "text/plain": [
       "<Figure size 900x800 with 2 Axes>"
      ]
     },
     "metadata": {},
     "output_type": "display_data"
    }
   ],
   "source": [
    "corrmat = df.corr()\n",
    "  \n",
    "f, ax = plt.subplots(figsize =(9, 8))\n",
    "sns.heatmap(corrmat, ax = ax, cmap =\"YlGnBu\", linewidths = 0.1)"
   ]
  },
  {
   "cell_type": "code",
   "execution_count": null,
   "id": "99d10e09",
   "metadata": {
    "papermill": {
     "duration": 0.013363,
     "end_time": "2023-03-03T18:02:07.577983",
     "exception": false,
     "start_time": "2023-03-03T18:02:07.564620",
     "status": "completed"
    },
    "tags": []
   },
   "outputs": [],
   "source": []
  }
 ],
 "metadata": {
  "kernelspec": {
   "display_name": "Python 3",
   "language": "python",
   "name": "python3"
  },
  "language_info": {
   "codemirror_mode": {
    "name": "ipython",
    "version": 3
   },
   "file_extension": ".py",
   "mimetype": "text/x-python",
   "name": "python",
   "nbconvert_exporter": "python",
   "pygments_lexer": "ipython3",
   "version": "3.7.12"
  },
  "papermill": {
   "default_parameters": {},
   "duration": 22.879271,
   "end_time": "2023-03-03T18:02:08.515347",
   "environment_variables": {},
   "exception": null,
   "input_path": "__notebook__.ipynb",
   "output_path": "__notebook__.ipynb",
   "parameters": {},
   "start_time": "2023-03-03T18:01:45.636076",
   "version": "2.4.0"
  }
 },
 "nbformat": 4,
 "nbformat_minor": 5
}
